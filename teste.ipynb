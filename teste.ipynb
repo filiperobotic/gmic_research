{
  "nbformat": 4,
  "nbformat_minor": 0,
  "metadata": {
    "colab": {
      "name": "teste.ipynb",
      "provenance": [],
      "collapsed_sections": [],
      "authorship_tag": "ABX9TyOQZPY1yq86NSaXNYm0L/CD",
      "include_colab_link": true
    },
    "kernelspec": {
      "name": "python3",
      "display_name": "Python 3"
    },
    "language_info": {
      "name": "python"
    }
  },
  "cells": [
    {
      "cell_type": "markdown",
      "metadata": {
        "id": "view-in-github",
        "colab_type": "text"
      },
      "source": [
        "<a href=\"https://colab.research.google.com/github/filiperobotic/gmic_research/blob/main/teste.ipynb\" target=\"_parent\"><img src=\"https://colab.research.google.com/assets/colab-badge.svg\" alt=\"Open In Colab\"/></a>"
      ]
    },
    {
      "cell_type": "code",
      "execution_count": 1,
      "metadata": {
        "colab": {
          "base_uri": "https://localhost:8080/"
        },
        "id": "sEA30SlBbq7I",
        "outputId": "4deff303-8aa3-4a0f-9a45-48cd31db70e2"
      },
      "outputs": [
        {
          "output_type": "stream",
          "name": "stdout",
          "text": [
            "Cloning into 'gmic_research'...\n",
            "remote: Enumerating objects: 154, done.\u001b[K\n",
            "remote: Counting objects: 100% (30/30), done.\u001b[K\n",
            "remote: Compressing objects: 100% (25/25), done.\u001b[K\n",
            "remote: Total 154 (delta 3), reused 27 (delta 2), pack-reused 124\u001b[K\n",
            "Receiving objects: 100% (154/154), 158.31 MiB | 38.22 MiB/s, done.\n",
            "Resolving deltas: 100% (60/60), done.\n",
            "Checking out files: 100% (129/129), done.\n"
          ]
        }
      ],
      "source": [
        "!git clone https://github.com/filiperobotic/gmic_research.git"
      ]
    },
    {
      "cell_type": "code",
      "source": [
        "%cd gmic_research/Global_local_framework_2/"
      ],
      "metadata": {
        "colab": {
          "base_uri": "https://localhost:8080/"
        },
        "id": "NW4NpOJtb_ro",
        "outputId": "f8080337-bd8b-45d4-8837-64b036b2e50e"
      },
      "execution_count": 19,
      "outputs": [
        {
          "output_type": "stream",
          "name": "stdout",
          "text": [
            "/content/gmic_research/Global_local_framework_2\n"
          ]
        }
      ]
    },
    {
      "cell_type": "code",
      "source": [
        "import sys\n",
        "sys.path.insert(0,'/content/gmic_research/Global_local_framework_2/')"
      ],
      "metadata": {
        "id": "tX3kBCoGcJmo"
      },
      "execution_count": 26,
      "outputs": []
    },
    {
      "cell_type": "code",
      "source": [
        "!pwd"
      ],
      "metadata": {
        "colab": {
          "base_uri": "https://localhost:8080/"
        },
        "id": "zB7rrR0VcYB9",
        "outputId": "daae052b-4c53-4eee-b5b2-067c754f50b1"
      },
      "execution_count": 4,
      "outputs": [
        {
          "output_type": "stream",
          "name": "stdout",
          "text": [
            "/content\n"
          ]
        }
      ]
    },
    {
      "cell_type": "code",
      "source": [
        "!sh /content/gmic_research/Global_local_framework_2/visualise_inbreast_salience_map_my22pt_18pt.sh"
      ],
      "metadata": {
        "colab": {
          "base_uri": "https://localhost:8080/"
        },
        "id": "Z6nZYNZ-cZQv",
        "outputId": "6f87d270-4ab5-474d-fc55-0d00196ce174"
      },
      "execution_count": 8,
      "outputs": [
        {
          "output_type": "stream",
          "name": "stdout",
          "text": [
            "/content/gmic_research/Global_local_framework_2/visualise_inbreast_salience_map_my22pt_18pt.sh: 4: cd: can't cd to gmic_mdpp-master/Global_local_framework_2/\n",
            "python3: can't open file 'src/scripts/myvisualise_model_VINDR.py': [Errno 2] No such file or directory\n"
          ]
        }
      ]
    },
    {
      "cell_type": "code",
      "source": [
        "!sh visualise_inbreast_salience_map_my22pt_18pt.sh"
      ],
      "metadata": {
        "colab": {
          "base_uri": "https://localhost:8080/"
        },
        "id": "bxig-oXHc0tU",
        "outputId": "a44bb64c-afd6-429a-b9f4-467432590a75"
      },
      "execution_count": 33,
      "outputs": [
        {
          "output_type": "stream",
          "name": "stdout",
          "text": [
            "/content/gmic_research/Global_local_framework_2\n",
            "Traceback (most recent call last):\n",
            "  File \"src/scripts/myvisualise_model_VINDR.py\", line 1013, in <module>\n",
            "    model.load_state_dict(torch.load(model_path)['model_state_dict'], strict=True)\n",
            "  File \"/usr/local/lib/python3.7/dist-packages/torch/serialization.py\", line 713, in load\n",
            "    return _legacy_load(opened_file, map_location, pickle_module, **pickle_load_args)\n",
            "  File \"/usr/local/lib/python3.7/dist-packages/torch/serialization.py\", line 930, in _legacy_load\n",
            "    result = unpickler.load()\n",
            "  File \"/usr/local/lib/python3.7/dist-packages/torch/serialization.py\", line 876, in persistent_load\n",
            "    wrap_storage=restore_location(obj, location),\n",
            "  File \"/usr/local/lib/python3.7/dist-packages/torch/serialization.py\", line 175, in default_restore_location\n",
            "    result = fn(storage, location)\n",
            "  File \"/usr/local/lib/python3.7/dist-packages/torch/serialization.py\", line 152, in _cuda_deserialize\n",
            "    device = validate_cuda_device(location)\n",
            "  File \"/usr/local/lib/python3.7/dist-packages/torch/serialization.py\", line 136, in validate_cuda_device\n",
            "    raise RuntimeError('Attempting to deserialize object on a CUDA '\n",
            "RuntimeError: Attempting to deserialize object on a CUDA device but torch.cuda.is_available() is False. If you are running on a CPU-only machine, please use torch.load with map_location=torch.device('cpu') to map your storages to the CPU.\n"
          ]
        }
      ]
    },
    {
      "cell_type": "code",
      "source": [
        "!ls"
      ],
      "metadata": {
        "colab": {
          "base_uri": "https://localhost:8080/"
        },
        "id": "VUIfmx1yc51S",
        "outputId": "42a9047d-5b9c-4b08-dbf0-14b7ad6488b4"
      },
      "execution_count": 7,
      "outputs": [
        {
          "output_type": "stream",
          "name": "stdout",
          "text": [
            "gmic_research  sample_data\n"
          ]
        }
      ]
    },
    {
      "cell_type": "code",
      "source": [
        "!pwd"
      ],
      "metadata": {
        "colab": {
          "base_uri": "https://localhost:8080/"
        },
        "id": "j-7eO0RreFQC",
        "outputId": "de4315a4-506f-43a2-8c68-70978fa128b7"
      },
      "execution_count": 25,
      "outputs": [
        {
          "output_type": "stream",
          "name": "stdout",
          "text": [
            "/content/gmic_research/Global_local_framework_2\n"
          ]
        }
      ]
    },
    {
      "cell_type": "code",
      "source": [
        ""
      ],
      "metadata": {
        "id": "nb3XTv8QfBAw"
      },
      "execution_count": null,
      "outputs": []
    }
  ]
}