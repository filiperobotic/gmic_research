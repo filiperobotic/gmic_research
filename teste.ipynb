{
  "nbformat": 4,
  "nbformat_minor": 0,
  "metadata": {
    "colab": {
      "name": "teste.ipynb",
      "provenance": [],
      "collapsed_sections": [],
      "authorship_tag": "ABX9TyOetuo10+/bBD4c2UVTylQc",
      "include_colab_link": true
    },
    "kernelspec": {
      "name": "python3",
      "display_name": "Python 3"
    },
    "language_info": {
      "name": "python"
    }
  },
  "cells": [
    {
      "cell_type": "markdown",
      "metadata": {
        "id": "view-in-github",
        "colab_type": "text"
      },
      "source": [
        "<a href=\"https://colab.research.google.com/github/filiperobotic/gmic_research/blob/main/teste.ipynb\" target=\"_parent\"><img src=\"https://colab.research.google.com/assets/colab-badge.svg\" alt=\"Open In Colab\"/></a>"
      ]
    },
    {
      "cell_type": "code",
      "execution_count": 1,
      "metadata": {
        "colab": {
          "base_uri": "https://localhost:8080/"
        },
        "id": "sEA30SlBbq7I",
        "outputId": "4deff303-8aa3-4a0f-9a45-48cd31db70e2"
      },
      "outputs": [
        {
          "output_type": "stream",
          "name": "stdout",
          "text": [
            "Cloning into 'gmic_research'...\n",
            "remote: Enumerating objects: 154, done.\u001b[K\n",
            "remote: Counting objects: 100% (30/30), done.\u001b[K\n",
            "remote: Compressing objects: 100% (25/25), done.\u001b[K\n",
            "remote: Total 154 (delta 3), reused 27 (delta 2), pack-reused 124\u001b[K\n",
            "Receiving objects: 100% (154/154), 158.31 MiB | 38.22 MiB/s, done.\n",
            "Resolving deltas: 100% (60/60), done.\n",
            "Checking out files: 100% (129/129), done.\n"
          ]
        }
      ],
      "source": [
        "!git clone https://github.com/filiperobotic/gmic_research.git"
      ]
    },
    {
      "cell_type": "code",
      "source": [
        "!pwd"
      ],
      "metadata": {
        "colab": {
          "base_uri": "https://localhost:8080/"
        },
        "id": "NW4NpOJtb_ro",
        "outputId": "51fbb894-7288-4f08-b516-976ae73c43dc"
      },
      "execution_count": 2,
      "outputs": [
        {
          "output_type": "stream",
          "name": "stdout",
          "text": [
            "/content\n"
          ]
        }
      ]
    },
    {
      "cell_type": "code",
      "source": [
        "import sys\n",
        "sys.path.insert(0,'gmic_research/Global_local_framework_2')"
      ],
      "metadata": {
        "id": "tX3kBCoGcJmo"
      },
      "execution_count": 3,
      "outputs": []
    },
    {
      "cell_type": "code",
      "source": [
        "!pwd"
      ],
      "metadata": {
        "colab": {
          "base_uri": "https://localhost:8080/"
        },
        "id": "zB7rrR0VcYB9",
        "outputId": "daae052b-4c53-4eee-b5b2-067c754f50b1"
      },
      "execution_count": 4,
      "outputs": [
        {
          "output_type": "stream",
          "name": "stdout",
          "text": [
            "/content\n"
          ]
        }
      ]
    },
    {
      "cell_type": "code",
      "source": [
        "!sh /content/gmic_research/Global_local_framework_2/visualise_inbreast_salience_map_my22pt_18pt.sh"
      ],
      "metadata": {
        "colab": {
          "base_uri": "https://localhost:8080/"
        },
        "id": "Z6nZYNZ-cZQv",
        "outputId": "82a8435e-feb0-4cf2-bae6-ba3b58ee799d"
      },
      "execution_count": 5,
      "outputs": [
        {
          "output_type": "stream",
          "name": "stdout",
          "text": [
            "/content/gmic_research/Global_local_framework_2/visualise_inbreast_salience_map_my22pt_18pt.sh: 4: cd: can't cd to /media/hdd/filipe/codes/gmic_mdpp-master/Global_local_framework_2/\n",
            "python3: can't open file 'src/scripts/myvisualise_model_VINDR.py': [Errno 2] No such file or directory\n"
          ]
        }
      ]
    },
    {
      "cell_type": "code",
      "source": [
        "!sh visualise_inbreast_salience_map_my22pt_18pt.sh"
      ],
      "metadata": {
        "colab": {
          "base_uri": "https://localhost:8080/"
        },
        "id": "bxig-oXHc0tU",
        "outputId": "83b54c44-aaa3-423c-c55b-80a0116498b6"
      },
      "execution_count": 6,
      "outputs": [
        {
          "output_type": "stream",
          "name": "stdout",
          "text": [
            "sh: 0: Can't open visualise_inbreast_salience_map_my22pt_18pt.sh\n"
          ]
        }
      ]
    },
    {
      "cell_type": "code",
      "source": [
        "!ls"
      ],
      "metadata": {
        "colab": {
          "base_uri": "https://localhost:8080/"
        },
        "id": "VUIfmx1yc51S",
        "outputId": "42a9047d-5b9c-4b08-dbf0-14b7ad6488b4"
      },
      "execution_count": 7,
      "outputs": [
        {
          "output_type": "stream",
          "name": "stdout",
          "text": [
            "gmic_research  sample_data\n"
          ]
        }
      ]
    },
    {
      "cell_type": "code",
      "source": [
        ""
      ],
      "metadata": {
        "id": "4cVN0qM_dXZ6"
      },
      "execution_count": null,
      "outputs": []
    }
  ]
}