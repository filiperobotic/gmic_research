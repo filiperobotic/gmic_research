{
  "nbformat": 4,
  "nbformat_minor": 0,
  "metadata": {
    "colab": {
      "name": "teste.ipynb",
      "provenance": [],
      "collapsed_sections": [],
      "authorship_tag": "ABX9TyN6eDtaIITxl/LSBGk3y7TZ",
      "include_colab_link": true
    },
    "kernelspec": {
      "name": "python3",
      "display_name": "Python 3"
    },
    "language_info": {
      "name": "python"
    },
    "accelerator": "GPU",
    "gpuClass": "standard"
  },
  "cells": [
    {
      "cell_type": "markdown",
      "metadata": {
        "id": "view-in-github",
        "colab_type": "text"
      },
      "source": [
        "<a href=\"https://colab.research.google.com/github/filiperobotic/gmic_research/blob/main/teste.ipynb\" target=\"_parent\"><img src=\"https://colab.research.google.com/assets/colab-badge.svg\" alt=\"Open In Colab\"/></a>"
      ]
    },
    {
      "cell_type": "code",
      "source": [
        "!rm -r gmic_research"
      ],
      "metadata": {
        "id": "K1Ck9oRMnZIO"
      },
      "execution_count": null,
      "outputs": []
    },
    {
      "cell_type": "code",
      "execution_count": 1,
      "metadata": {
        "colab": {
          "base_uri": "https://localhost:8080/"
        },
        "id": "sEA30SlBbq7I",
        "outputId": "17c0cb5c-284b-41df-d2d8-11a7c4e95c27"
      },
      "outputs": [
        {
          "output_type": "stream",
          "name": "stdout",
          "text": [
            "Cloning into 'gmic_research'...\n",
            "remote: Enumerating objects: 177, done.\u001b[K\n",
            "remote: Counting objects: 100% (53/53), done.\u001b[K\n",
            "remote: Compressing objects: 100% (45/45), done.\u001b[K\n",
            "remote: Total 177 (delta 13), reused 34 (delta 5), pack-reused 124\u001b[K\n",
            "Receiving objects: 100% (177/177), 158.33 MiB | 45.43 MiB/s, done.\n",
            "Resolving deltas: 100% (70/70), done.\n"
          ]
        }
      ],
      "source": [
        "!git clone https://github.com/filiperobotic/gmic_research.git"
      ]
    },
    {
      "cell_type": "code",
      "source": [
        "%cd gmic_research/Global_local_framework_2/"
      ],
      "metadata": {
        "colab": {
          "base_uri": "https://localhost:8080/"
        },
        "id": "NW4NpOJtb_ro",
        "outputId": "3e96ac82-a188-4a49-a31d-1af23037e5aa"
      },
      "execution_count": 2,
      "outputs": [
        {
          "output_type": "stream",
          "name": "stdout",
          "text": [
            "/content/gmic_research/Global_local_framework_2\n"
          ]
        }
      ]
    },
    {
      "cell_type": "code",
      "source": [
        "import sys\n",
        "sys.path.insert(0,'/content/gmic_research/Global_local_framework_2/')"
      ],
      "metadata": {
        "id": "tX3kBCoGcJmo"
      },
      "execution_count": 3,
      "outputs": []
    },
    {
      "cell_type": "code",
      "source": [
        "from google.colab import drive\n",
        "drive.mount('/content/drive')"
      ],
      "metadata": {
        "colab": {
          "base_uri": "https://localhost:8080/"
        },
        "id": "rwpUAUqmlgRr",
        "outputId": "37e4900b-61ff-4501-8b88-65bef185a5fd"
      },
      "execution_count": 4,
      "outputs": [
        {
          "output_type": "stream",
          "name": "stdout",
          "text": [
            "Mounted at /content/drive\n"
          ]
        }
      ]
    },
    {
      "cell_type": "code",
      "source": [
        "!sh visualise_inbreast_salience_map_my22pt_18pt.sh"
      ],
      "metadata": {
        "colab": {
          "base_uri": "https://localhost:8080/"
        },
        "id": "bxig-oXHc0tU",
        "outputId": "5124fc61-adfd-44bc-d534-0015a8d9e681"
      },
      "execution_count": 5,
      "outputs": [
        {
          "output_type": "stream",
          "name": "stdout",
          "text": [
            "Traceback (most recent call last):\n",
            "  File \"src/scripts/myvisualise_model_INBREAST.py\", line 1035, in <module>\n",
            "    test_loader = get_dataloaderVINDR(DATA_PATH, 'test', image_size=img_size, batch_size=batch_size, shuffle=False, max_value=max_value, aug=aug, num_chan=args['num_chan'])\n",
            "  File \"/content/gmic_research/Global_local_framework_2/src/data_loading/datasets.py\", line 293, in get_dataloaderVINDR\n",
            "    VINDR(datapth, data_type, image_size, max_value, aug, num_chan ),\n",
            "  File \"/content/gmic_research/Global_local_framework_2/src/data_loading/datasets.py\", line 201, in __init__\n",
            "    df = pd.read_csv(os.path.join(root,\"balanced_mass_nof.csv\"))\n",
            "  File \"/usr/local/lib/python3.7/dist-packages/pandas/util/_decorators.py\", line 311, in wrapper\n",
            "    return func(*args, **kwargs)\n",
            "  File \"/usr/local/lib/python3.7/dist-packages/pandas/io/parsers/readers.py\", line 586, in read_csv\n",
            "    return _read(filepath_or_buffer, kwds)\n",
            "  File \"/usr/local/lib/python3.7/dist-packages/pandas/io/parsers/readers.py\", line 482, in _read\n",
            "    parser = TextFileReader(filepath_or_buffer, **kwds)\n",
            "  File \"/usr/local/lib/python3.7/dist-packages/pandas/io/parsers/readers.py\", line 811, in __init__\n",
            "    self._engine = self._make_engine(self.engine)\n",
            "  File \"/usr/local/lib/python3.7/dist-packages/pandas/io/parsers/readers.py\", line 1040, in _make_engine\n",
            "    return mapping[engine](self.f, **self.options)  # type: ignore[call-arg]\n",
            "  File \"/usr/local/lib/python3.7/dist-packages/pandas/io/parsers/c_parser_wrapper.py\", line 51, in __init__\n",
            "    self._open_handles(src, kwds)\n",
            "  File \"/usr/local/lib/python3.7/dist-packages/pandas/io/parsers/base_parser.py\", line 229, in _open_handles\n",
            "    errors=kwds.get(\"encoding_errors\", \"strict\"),\n",
            "  File \"/usr/local/lib/python3.7/dist-packages/pandas/io/common.py\", line 707, in get_handle\n",
            "    newline=\"\",\n",
            "FileNotFoundError: [Errno 2] No such file or directory: '/content/drive/MyDrive/PNG_MASKS/balanced_mass_nof.csv'\n"
          ]
        }
      ]
    },
    {
      "cell_type": "code",
      "source": [
        "!ls"
      ],
      "metadata": {
        "id": "VUIfmx1yc51S"
      },
      "execution_count": null,
      "outputs": []
    },
    {
      "cell_type": "code",
      "source": [
        "!pwd"
      ],
      "metadata": {
        "colab": {
          "base_uri": "https://localhost:8080/"
        },
        "id": "j-7eO0RreFQC",
        "outputId": "e8c6adde-eace-4753-c646-251584113e70"
      },
      "execution_count": null,
      "outputs": [
        {
          "output_type": "stream",
          "name": "stdout",
          "text": [
            "/content/gmic_research/Global_local_framework_2\n"
          ]
        }
      ]
    },
    {
      "cell_type": "code",
      "source": [
        "!python"
      ],
      "metadata": {
        "id": "nb3XTv8QfBAw"
      },
      "execution_count": null,
      "outputs": []
    },
    {
      "cell_type": "code",
      "source": [
        "\n"
      ],
      "metadata": {
        "id": "RdK6AXv1ja64"
      },
      "execution_count": null,
      "outputs": []
    }
  ]
}