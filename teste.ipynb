{
  "nbformat": 4,
  "nbformat_minor": 0,
  "metadata": {
    "colab": {
      "name": "teste.ipynb",
      "provenance": [],
      "collapsed_sections": [],
      "authorship_tag": "ABX9TyOzqSFGMfiu9Y3xkVmjlLDy",
      "include_colab_link": true
    },
    "kernelspec": {
      "name": "python3",
      "display_name": "Python 3"
    },
    "language_info": {
      "name": "python"
    },
    "accelerator": "GPU",
    "gpuClass": "standard"
  },
  "cells": [
    {
      "cell_type": "markdown",
      "metadata": {
        "id": "view-in-github",
        "colab_type": "text"
      },
      "source": [
        "<a href=\"https://colab.research.google.com/github/filiperobotic/gmic_research/blob/main/teste.ipynb\" target=\"_parent\"><img src=\"https://colab.research.google.com/assets/colab-badge.svg\" alt=\"Open In Colab\"/></a>"
      ]
    },
    {
      "cell_type": "code",
      "execution_count": 1,
      "metadata": {
        "colab": {
          "base_uri": "https://localhost:8080/"
        },
        "id": "sEA30SlBbq7I",
        "outputId": "d53a91be-f33a-4481-aae4-b35035f3ad7d"
      },
      "outputs": [
        {
          "output_type": "stream",
          "name": "stdout",
          "text": [
            "fatal: destination path 'gmic_research' already exists and is not an empty directory.\n"
          ]
        }
      ],
      "source": [
        "!git clone https://github.com/filiperobotic/gmic_research.git"
      ]
    },
    {
      "cell_type": "code",
      "source": [
        "%cd gmic_research/Global_local_framework_2/"
      ],
      "metadata": {
        "colab": {
          "base_uri": "https://localhost:8080/"
        },
        "id": "NW4NpOJtb_ro",
        "outputId": "dcbb7407-58e3-49ca-a102-4592adef623b"
      },
      "execution_count": 2,
      "outputs": [
        {
          "output_type": "stream",
          "name": "stdout",
          "text": [
            "/content/gmic_research/Global_local_framework_2\n"
          ]
        }
      ]
    },
    {
      "cell_type": "code",
      "source": [
        "import sys\n",
        "sys.path.insert(0,'/content/gmic_research/Global_local_framework_2/')"
      ],
      "metadata": {
        "id": "tX3kBCoGcJmo"
      },
      "execution_count": 3,
      "outputs": []
    },
    {
      "cell_type": "code",
      "source": [
        "!sh visualise_inbreast_salience_map_my22pt_18pt.sh"
      ],
      "metadata": {
        "colab": {
          "base_uri": "https://localhost:8080/"
        },
        "id": "bxig-oXHc0tU",
        "outputId": "77851bb1-5787-4b1f-b5ed-4c40e3caeaf6"
      },
      "execution_count": 4,
      "outputs": [
        {
          "output_type": "stream",
          "name": "stdout",
          "text": [
            ">> /content/gmic_research/Global_local_framework_2/models/sample_model_1.p\n",
            "Traceback (most recent call last):\n",
            "  File \"src/scripts/myvisualise_model_VINDR.py\", line 1013, in <module>\n",
            "    model.load_state_dict(torch.load(model_path)['model_state_dict'], strict=True)\n",
            "KeyError: 'model_state_dict'\n"
          ]
        }
      ]
    },
    {
      "cell_type": "code",
      "source": [
        "!ls"
      ],
      "metadata": {
        "id": "VUIfmx1yc51S"
      },
      "execution_count": null,
      "outputs": []
    },
    {
      "cell_type": "code",
      "source": [
        "!pwd"
      ],
      "metadata": {
        "colab": {
          "base_uri": "https://localhost:8080/"
        },
        "id": "j-7eO0RreFQC",
        "outputId": "e8c6adde-eace-4753-c646-251584113e70"
      },
      "execution_count": 16,
      "outputs": [
        {
          "output_type": "stream",
          "name": "stdout",
          "text": [
            "/content/gmic_research/Global_local_framework_2\n"
          ]
        }
      ]
    },
    {
      "cell_type": "code",
      "source": [
        "!python"
      ],
      "metadata": {
        "id": "nb3XTv8QfBAw"
      },
      "execution_count": null,
      "outputs": []
    },
    {
      "cell_type": "code",
      "source": [
        "\n"
      ],
      "metadata": {
        "id": "RdK6AXv1ja64"
      },
      "execution_count": null,
      "outputs": []
    }
  ]
}